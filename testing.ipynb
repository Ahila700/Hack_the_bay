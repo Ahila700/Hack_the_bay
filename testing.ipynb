{
 "cells": [
  {
   "cell_type": "code",
   "execution_count": 5,
   "metadata": {},
   "outputs": [
    {
     "ename": "ModuleNotFoundError",
     "evalue": "No module named 'geoplot'",
     "output_type": "error",
     "traceback": [
      "\u001b[0;31m---------------------------------------------------------------------------\u001b[0m",
      "\u001b[0;31mModuleNotFoundError\u001b[0m                       Traceback (most recent call last)",
      "\u001b[0;32m<ipython-input-5-905f4ce8a944>\u001b[0m in \u001b[0;36m<module>\u001b[0;34m\u001b[0m\n\u001b[1;32m      7\u001b[0m \u001b[0;32mfrom\u001b[0m \u001b[0mshapely\u001b[0m\u001b[0;34m.\u001b[0m\u001b[0mgeometry\u001b[0m \u001b[0;32mimport\u001b[0m \u001b[0mPoint\u001b[0m\u001b[0;34m,\u001b[0m \u001b[0mPolygon\u001b[0m\u001b[0;34m,\u001b[0m \u001b[0mLineString\u001b[0m\u001b[0;34m\u001b[0m\u001b[0;34m\u001b[0m\u001b[0m\n\u001b[1;32m      8\u001b[0m \u001b[0;32mfrom\u001b[0m \u001b[0mpyproj\u001b[0m \u001b[0;32mimport\u001b[0m \u001b[0mProj\u001b[0m\u001b[0;34m\u001b[0m\u001b[0;34m\u001b[0m\u001b[0m\n\u001b[0;32m----> 9\u001b[0;31m \u001b[0;32mimport\u001b[0m \u001b[0mgeoplot\u001b[0m \u001b[0;32mas\u001b[0m \u001b[0mgplt\u001b[0m\u001b[0;34m\u001b[0m\u001b[0;34m\u001b[0m\u001b[0m\n\u001b[0m\u001b[1;32m     10\u001b[0m \u001b[0;32mimport\u001b[0m \u001b[0mgeoplot\u001b[0m\u001b[0;34m.\u001b[0m\u001b[0mcrs\u001b[0m \u001b[0;32mas\u001b[0m \u001b[0mgcrs\u001b[0m\u001b[0;34m\u001b[0m\u001b[0;34m\u001b[0m\u001b[0m\n",
      "\u001b[0;31mModuleNotFoundError\u001b[0m: No module named 'geoplot'"
     ]
    }
   ],
   "source": [
    "#importing packages\n",
    "\n",
    "import pandas as pd\n",
    "#import fiona\n",
    "import matplotlib.pyplot as plt\n",
    "import geopandas as gpd\n",
    "from shapely.geometry import Point, Polygon, LineString\n",
    "from pyproj import Proj\n",
    "import geoplot as gplt\n",
    "import geoplot.crs as gcrs\n"
   ]
  },
  {
   "cell_type": "code",
   "execution_count": 6,
   "metadata": {},
   "outputs": [
    {
     "name": "stdout",
     "output_type": "stream",
     "text": [
      "Collecting geoplot\n",
      "  Downloading geoplot-0.4.1-py3-none-any.whl (28 kB)\n",
      "Collecting contextily>=1.0.0\n",
      "  Downloading contextily-1.0.0-py3-none-any.whl (23 kB)\n",
      "Requirement already satisfied: seaborn in /Users/judebuenaseda/.pyenv/versions/3.8.2/lib/python3.8/site-packages (from geoplot) (0.10.1)\n",
      "Requirement already satisfied: matplotlib in /Users/judebuenaseda/.pyenv/versions/3.8.2/lib/python3.8/site-packages (from geoplot) (3.2.1)\n",
      "Collecting descartes\n",
      "  Downloading descartes-1.1.0-py3-none-any.whl (5.8 kB)\n",
      "Requirement already satisfied: geopandas in /Users/judebuenaseda/.pyenv/versions/3.8.2/lib/python3.8/site-packages (from geoplot) (0.8.1)\n",
      "Collecting cartopy\n",
      "  Downloading Cartopy-0.18.0.tar.gz (14.4 MB)\n",
      "\u001b[K     |████████████████████████████████| 14.4 MB 5.3 MB/s eta 0:00:01    |███████████████████▉            | 8.9 MB 5.3 MB/s eta 0:00:02\n",
      "\u001b[31m    ERROR: Command errored out with exit status 1:\n",
      "     command: /Users/judebuenaseda/.pyenv/versions/3.8.2/bin/python3.8 -c 'import sys, setuptools, tokenize; sys.argv[0] = '\"'\"'/private/var/folders/lw/k_bpx0q91m79755tz8y4n7c80000gn/T/pip-install-e556tx18/cartopy/setup.py'\"'\"'; __file__='\"'\"'/private/var/folders/lw/k_bpx0q91m79755tz8y4n7c80000gn/T/pip-install-e556tx18/cartopy/setup.py'\"'\"';f=getattr(tokenize, '\"'\"'open'\"'\"', open)(__file__);code=f.read().replace('\"'\"'\\r\\n'\"'\"', '\"'\"'\\n'\"'\"');f.close();exec(compile(code, __file__, '\"'\"'exec'\"'\"'))' egg_info --egg-base /private/var/folders/lw/k_bpx0q91m79755tz8y4n7c80000gn/T/pip-pip-egg-info-v7tzme9a\n",
      "         cwd: /private/var/folders/lw/k_bpx0q91m79755tz8y4n7c80000gn/T/pip-install-e556tx18/cartopy/\n",
      "    Complete output (3 lines):\n",
      "    /private/var/folders/lw/k_bpx0q91m79755tz8y4n7c80000gn/T/pip-install-e556tx18/cartopy/setup.py:104: UserWarning: Unable to determine GEOS version. Ensure you have 3.3.3 or later installed, or installation may fail.\n",
      "      warnings.warn(\n",
      "    Proj 4.9.0 must be installed.\n",
      "    ----------------------------------------\u001b[0m\n",
      "\u001b[31mERROR: Command errored out with exit status 1: python setup.py egg_info Check the logs for full command output.\u001b[0m\n",
      "\u001b[33mWARNING: You are using pip version 20.1.1; however, version 20.2.2 is available.\n",
      "You should consider upgrading via the '/Users/judebuenaseda/.pyenv/versions/3.8.2/bin/python3.8 -m pip install --upgrade pip' command.\u001b[0m\n",
      "\u001b[?25h"
     ]
    }
   ],
   "source": [
    "!pip install geoplot"
   ]
  },
  {
   "cell_type": "code",
   "execution_count": null,
   "metadata": {},
   "outputs": [],
   "source": []
  }
 ],
 "metadata": {
  "kernelspec": {
   "display_name": "Python 3",
   "language": "python",
   "name": "python3"
  },
  "language_info": {
   "codemirror_mode": {
    "name": "ipython",
    "version": 3
   },
   "file_extension": ".py",
   "mimetype": "text/x-python",
   "name": "python",
   "nbconvert_exporter": "python",
   "pygments_lexer": "ipython3",
   "version": "3.8.2"
  }
 },
 "nbformat": 4,
 "nbformat_minor": 4
}
